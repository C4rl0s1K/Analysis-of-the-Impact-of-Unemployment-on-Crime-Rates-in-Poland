{
 "cells": [
  {
   "cell_type": "markdown",
   "metadata": {},
   "source": [
    "##### Biblioteki"
   ]
  },
  {
   "cell_type": "code",
   "execution_count": null,
   "metadata": {},
   "outputs": [],
   "source": [
    "import pandas as pd\n",
    "from IPython.display import display\n",
    "import matplotlib.pyplot as plt\n",
    "import seaborn as sns\n",
    "import numpy as np\n",
    "from sklearn.model_selection import train_test_split\n",
    "from sklearn.linear_model import LinearRegression\n",
    "from sklearn.metrics import mean_squared_error, r2_score\n",
    "from sklearn.preprocessing import StandardScaler\n",
    "from scipy.stats import pearsonr\n",
    "from scipy.stats import ttest_ind\n",
    "from statsmodels.tsa.stattools import adfuller\n",
    "from statsmodels.graphics.tsaplots import plot_acf, plot_pacf\n",
    "from statsmodels.tsa.arima.model import ARIMA\n",
    "from sklearn.cluster import KMeans\n",
    "# from sklearn.preprocessing import StandardScaler, OneHotEncoder\n",
    "# from sklearn.compose import ColumnTransformer\n",
    "# from sklearn.pipeline import Pipeline\n",
    "# from sklearn.decomposition import PCA\n"
   ]
  },
  {
   "cell_type": "markdown",
   "metadata": {},
   "source": [
    "##### Wczytywanie plików"
   ]
  },
  {
   "cell_type": "code",
   "execution_count": null,
   "metadata": {},
   "outputs": [],
   "source": [
    "file_bezrobocie = \"raw data/stopa_bezrobocia.xlsx\"\n",
    "file_przestepstwa_kryminalne = \"raw data/przestepstwa_kryminalne.xlsx\"\n",
    "file_przestepstwa_gospodarcze = \"raw data/przestepstwa_gospodarcze.xlsx\"\n",
    "file_przestepstwa_drogowe = \"raw data/przestepstwa_drogowe.xlsx\""
   ]
  },
  {
   "cell_type": "code",
   "execution_count": null,
   "metadata": {},
   "outputs": [],
   "source": [
    "df_bezrobocie = pd.read_excel(file_bezrobocie)\n",
    "df_kr = pd.read_excel(file_przestepstwa_kryminalne)\n",
    "df_gosp = pd.read_excel(file_przestepstwa_gospodarcze)\n",
    "df_dro = pd.read_excel(file_przestepstwa_drogowe)\n"
   ]
  },
  {
   "cell_type": "markdown",
   "metadata": {},
   "source": [
    "#### Przygotowywanie danych"
   ]
  },
  {
   "cell_type": "markdown",
   "metadata": {},
   "source": [
    "##### Średnie bezrobocie rocznie"
   ]
  },
  {
   "cell_type": "code",
   "execution_count": null,
   "metadata": {},
   "outputs": [],
   "source": [
    "df_bezrobocie_roczne = df_bezrobocie.groupby(\"Rok\")[\"Wartość\"].mean().reset_index()\n",
    "df_bezrobocie_roczne.columns = [\"Rok\", \"Bezrobocie [%]\"]\n",
    "df_bezrobocie_roczne.drop([31,32,33], axis=0, inplace=True)\n",
    "df_bezrobocie_roczne[\"Bezrobocie [%]\"] = df_bezrobocie_roczne[\"Bezrobocie [%]\"].round(2)\n",
    "df_bezrobocie_roczne[\"Rok\"] = pd.to_datetime(df_bezrobocie_roczne[\"Rok\"], format=\"%Y\")\n",
    "df_bezrobocie_roczne[\"Rok\"] = df_bezrobocie_roczne[\"Rok\"].dt.year\n",
    "df_bezrobocie_roczne\n"
   ]
  },
  {
   "cell_type": "markdown",
   "metadata": {},
   "source": [
    "##### Przygotowanie odpowednio Dataframów z przestępstwami"
   ]
  },
  {
   "cell_type": "code",
   "execution_count": null,
   "metadata": {},
   "outputs": [],
   "source": [
    "df_kr = df_kr[[\"Jednostka podziału administracyjnego\", \"Rok\", \"Przestępstwa stwierdzone\"]]\n",
    "df_kr_Polska = df_kr[df_kr[\"Jednostka podziału administracyjnego\"] == \"Polska\"].copy()\n",
    "df_kr_Polska.columns = [\"Kraj\", \"Rok\", \"Liczba przestępstw\"]\n",
    "df_kr_Polska.drop(columns=\"Kraj\", inplace=True)"
   ]
  },
  {
   "cell_type": "code",
   "execution_count": null,
   "metadata": {},
   "outputs": [],
   "source": [
    "df_gosp = df_gosp[[\"Jednostka podziału administracyjnego\", \"Rok\", \"Przestępstwa stwierdzone\"]]\n",
    "df_gosp_Polska = df_gosp[df_gosp[\"Jednostka podziału administracyjnego\"] == \"Polska\"].copy()\n",
    "df_gosp_Polska.columns = [\"Kraj\", \"Rok\", \"Liczba przestępstw\"]\n",
    "df_gosp_Polska.drop(columns=\"Kraj\", inplace=True)"
   ]
  },
  {
   "cell_type": "code",
   "execution_count": null,
   "metadata": {},
   "outputs": [],
   "source": [
    "df_dro = df_dro[[\"Jednostka podziału administracyjnego\", \"Rok\", \"Przestępstwa stwierdzone\"]]\n",
    "df_dro_Polska = df_dro[df_dro[\"Jednostka podziału administracyjnego\"] == \"Polska\"].copy()\n",
    "df_dro_Polska.columns = [\"Kraj\", \"Rok\", \"Liczba przestępstw\"]\n",
    "df_dro_Polska.drop(columns=\"Kraj\", inplace=True)"
   ]
  },
  {
   "cell_type": "code",
   "execution_count": null,
   "metadata": {},
   "outputs": [],
   "source": [
    "# df_przestepstwa_kryminalne = df_przestepstwa_kryminalne.rename(columns={\"Jednostka podziału administracyjnego\" : \"Region\"})\n",
    "\n",
    "# i = df_przestepstwa_kryminalne[((df_przestepstwa_kryminalne.Region == \"Polska\"))].index\n",
    "\n",
    "# df_przestepstwa_kryminalne.drop(i, inplace=True)\n",
    "# df_przestepstwa_kryminalne.reset_index(drop=True, inplace=True)\n",
    "# df_przestepstwa_kryminalne"
   ]
  },
  {
   "cell_type": "markdown",
   "metadata": {},
   "source": [
    "#### Eksploracyjna analiza danych (EDA)"
   ]
  },
  {
   "cell_type": "markdown",
   "metadata": {},
   "source": [
    "1. Bezrobocie - statystyka opisowa"
   ]
  },
  {
   "cell_type": "code",
   "execution_count": null,
   "metadata": {},
   "outputs": [],
   "source": [
    "średnia_df_bezrobocie_roczne = df_bezrobocie_roczne[\"Bezrobocie [%]\"].mean().round(2)\n",
    "mediana_df_bezrobocie_roczne = df_bezrobocie_roczne[\"Bezrobocie [%]\"].median().round(2)\n",
    "odchylenie_standardowe_df_bezrobocie_roczne = df_bezrobocie_roczne[\"Bezrobocie [%]\"].std().round(2)\n",
    "wariancja_df_bezrobocie_roczne = df_bezrobocie_roczne[\"Bezrobocie [%]\"].var().round(2)\n",
    "cv = odchylenie_standardowe_df_bezrobocie_roczne/średnia_df_bezrobocie_roczne #współczynnik zmienności\n",
    "cv = cv.round(2)\n",
    "\n",
    "print(f\"Srednie bezrobocie wynosi: {średnia_df_bezrobocie_roczne}\")\n",
    "print(f\"Mediana dla bezrobocia: {mediana_df_bezrobocie_roczne}\")\n",
    "print(f\"Odchylenie standardowe dla bezrobocia: {odchylenie_standardowe_df_bezrobocie_roczne}\")\n",
    "print(f\"Wariancja dla bezrobocia: {wariancja_df_bezrobocie_roczne}\")\n",
    "print(f\"Współczynnik zmienności wynosi: {cv}\")"
   ]
  },
  {
   "cell_type": "markdown",
   "metadata": {},
   "source": [
    "1.1 Bezrobocie - wykresy"
   ]
  },
  {
   "cell_type": "code",
   "execution_count": null,
   "metadata": {},
   "outputs": [],
   "source": [
    "plt.figure(figsize=(15,5))\n",
    "plt.plot(df_bezrobocie_roczne[\"Rok\"], df_bezrobocie_roczne[\"Bezrobocie [%]\"], marker='o', linestyle='-', color='blue', linewidth=2, label=\"Bezrobocie [%]\")\n",
    "plt.axhline(średnia_df_bezrobocie_roczne, color=\"red\", linestyle=\"--\", linewidth=2, label=f\"Średnie bezrobocie: {średnia_df_bezrobocie_roczne:.2f}%\")\n",
    "plt.title(\"Bezrobocie w latach 1999-2021\", fontsize=20)\n",
    "plt.xlabel(\"Rok\", fontsize=16)\n",
    "plt.ylabel(\"Stopa bezrobocia [%]\", fontsize=16)\n",
    "plt.xticks(rotation=45, fontsize=12)\n",
    "plt.yticks(fontsize=12)\n",
    "plt.grid(True, linestyle=\"--\", alpha=0.6)\n",
    "plt.legend(fontsize=12)\n",
    "plt.show()"
   ]
  },
  {
   "cell_type": "code",
   "execution_count": null,
   "metadata": {},
   "outputs": [],
   "source": [
    "#Histogram\n",
    "plt.figure(figsize=(10, 5))\n",
    "sns.histplot(df_bezrobocie_roczne[\"Bezrobocie [%]\"], kde=True, bins=30)\n",
    "plt.title(\"Rozkład stopy bezrobocia\")\n",
    "plt.xlabel(\"Bezrobocie [%]\")\n",
    "plt.ylabel(\"Liczba przypadków (Częstość)\")\n",
    "plt.show()"
   ]
  },
  {
   "cell_type": "code",
   "execution_count": null,
   "metadata": {},
   "outputs": [],
   "source": [
    "#Obliczenie linii trendu\n",
    "z = np.polyfit(df_bezrobocie_roczne[\"Rok\"], df_bezrobocie_roczne[\"Bezrobocie [%]\"], 1)\n",
    "p = np.poly1d(z)\n",
    "\n",
    "# Wykres stopy bezrobocia z linią trendu\n",
    "plt.figure(figsize=(15, 5))\n",
    "plt.plot(df_bezrobocie_roczne[\"Rok\"], df_bezrobocie_roczne[\"Bezrobocie [%]\"], label=\"Bezrobocie [%]\", color=\"blue\", marker=\"o\")\n",
    "plt.plot(df_bezrobocie_roczne[\"Rok\"], p(df_bezrobocie_roczne[\"Rok\"]), linestyle=\"--\", color=\"red\", label=\"Linia trendu\")\n",
    "plt.title(\"Bezrobocie w latach 1999-2021 z linią trendu\")\n",
    "plt.xlabel(\"Rok\")\n",
    "plt.ylabel(\"Bezrobocie [%]\")\n",
    "plt.xticks(rotation=45)\n",
    "plt.grid(True, linestyle=\"--\", alpha=0.6)\n",
    "plt.legend()\n",
    "plt.show()"
   ]
  },
  {
   "cell_type": "markdown",
   "metadata": {},
   "source": [
    "2. Przestępstwa kryminalne"
   ]
  },
  {
   "cell_type": "code",
   "execution_count": null,
   "metadata": {},
   "outputs": [],
   "source": [
    "średnia_df_kr_Polska = df_kr_Polska[\"Liczba przestępstw\"].mean().round(2)\n",
    "mediana_df_kr_Polska = df_kr_Polska[\"Liczba przestępstw\"].median().round(2)\n",
    "odchylenie_standardowe_df_kr_Polska = df_kr_Polska[\"Liczba przestępstw\"].std().round(2)\n",
    "wariancja_df_kr_Polska = df_kr_Polska[\"Liczba przestępstw\"].var().round(2)\n",
    "cv = odchylenie_standardowe_df_kr_Polska/średnia_df_kr_Polska #współczynnik zmienności\n",
    "cv = cv.round(2)\n",
    "\n",
    "print(f\"Srednie liczba przestępstw kryminalnych wynosi: {średnia_df_kr_Polska}\")\n",
    "print(f\"Mediana dla liczby przestępstw kryminalnych wynosi: {mediana_df_kr_Polska}\")\n",
    "print(f\"Odchylenie standardowe dla liczby przestępstw kryminalnych: {odchylenie_standardowe_df_kr_Polska}\")\n",
    "print(f\"Wariancja dla liczby przestępstw kryminalnych: {wariancja_df_kr_Polska}\")\n",
    "print(f\"Współczynnik zmienności wynosi: {cv}\")"
   ]
  },
  {
   "cell_type": "markdown",
   "metadata": {},
   "source": [
    "2.2 Przestępstaw kryminalne - wykresy"
   ]
  },
  {
   "cell_type": "code",
   "execution_count": null,
   "metadata": {},
   "outputs": [],
   "source": [
    "plt.figure(figsize=(15,5))\n",
    "plt.plot(df_kr_Polska[\"Rok\"], df_kr_Polska[\"Liczba przestępstw\"])\n",
    "plt.axhline(średnia_df_kr_Polska, color = \"red\", linestyle = \"--\", linewidth=2, label=f\"Srednie liczba przestępstw: {średnia_df_kr_Polska:.2f}%\")\n",
    "plt.title(\"Liczba przestępstw kryminalnych w latach 1990-2021\", fontsize=20)\n",
    "plt.xlabel(\"Rok\", fontsize=16)\n",
    "plt.ylabel(\"Stopa bezrobocia [%]\", fontsize=16)\n",
    "plt.xticks(rotation=45, fontsize=12)\n",
    "plt.yticks(fontsize=12)\n",
    "plt.grid(True, linestyle=\"--\", alpha=0.6)\n",
    "plt.legend(fontsize=12)\n",
    "plt.show()"
   ]
  },
  {
   "cell_type": "code",
   "execution_count": null,
   "metadata": {},
   "outputs": [],
   "source": [
    "#Histogram\n",
    "plt.figure(figsize=(10, 5))\n",
    "sns.histplot(df_kr_Polska[\"Liczba przestępstw\"], kde=True, bins=30)\n",
    "plt.title(\"Rozkład liczby przestępstw kryminalnych\")\n",
    "plt.xlabel(\"Liczba przestępstw\")\n",
    "plt.ylabel(\"Liczba przypadków (Częstość)\")\n",
    "plt.show()"
   ]
  },
  {
   "cell_type": "code",
   "execution_count": null,
   "metadata": {},
   "outputs": [],
   "source": [
    "#Obliczenie linii trendu\n",
    "z = np.polyfit(df_kr_Polska[\"Rok\"], df_kr_Polska[\"Liczba przestępstw\"], 1)\n",
    "p = np.poly1d(z)\n",
    "\n",
    "# Wykres stopy bezrobocia z linią trendu\n",
    "plt.figure(figsize=(15, 5))\n",
    "plt.plot(df_kr_Polska[\"Rok\"], df_kr_Polska[\"Liczba przestępstw\"], label=\"Liczba przestępstw\", color=\"blue\", marker=\"o\")\n",
    "plt.plot(df_kr_Polska[\"Rok\"], p(df_kr_Polska[\"Rok\"]), linestyle=\"--\", color=\"red\", label=\"Linia trendu\")\n",
    "plt.title(\"Liczba przestępstw kryminalnych w latach 1999-2021 z linią trendu\")\n",
    "plt.xlabel(\"Rok\")\n",
    "plt.ylabel(\"Liczba przestępstw\")\n",
    "plt.xticks(rotation=45)\n",
    "plt.grid(True, linestyle=\"--\", alpha=0.6)\n",
    "plt.legend()\n",
    "plt.show()"
   ]
  },
  {
   "cell_type": "markdown",
   "metadata": {},
   "source": [
    "3. Przestępstwa gospodarcze"
   ]
  },
  {
   "cell_type": "code",
   "execution_count": null,
   "metadata": {},
   "outputs": [],
   "source": [
    "średnia_df_gosp_Polska = df_gosp_Polska[\"Liczba przestępstw\"].mean().round(2)\n",
    "mediana_df_gosp_Polska = df_gosp_Polska[\"Liczba przestępstw\"].median().round(2)\n",
    "odchylenie_standardowe_df_gosp_Polska = df_gosp_Polska[\"Liczba przestępstw\"].std().round(2)\n",
    "wariancja_df_gosp_Polska = df_gosp_Polska[\"Liczba przestępstw\"].var().round(2)\n",
    "cv = odchylenie_standardowe_df_gosp_Polska/średnia_df_gosp_Polska #współczynnik zmienności\n",
    "cv = cv.round(2)\n",
    "\n",
    "print(f\"Srednie liczba przestępstw gospodarczych wynosi: {średnia_df_gosp_Polska}\")\n",
    "print(f\"Mediana dla liczby przestępstw gospodarczych wynosi: {mediana_df_gosp_Polska}\")\n",
    "print(f\"Odchylenie standardowe dla liczby przestępstw gospodarczych: {odchylenie_standardowe_df_gosp_Polska}\")\n",
    "print(f\"Wariancja dla liczby przestępstw gospodarczych: {wariancja_df_gosp_Polska}\")\n",
    "print(f\"Współczynnik zmienności wynosi: {cv}\")"
   ]
  },
  {
   "cell_type": "markdown",
   "metadata": {},
   "source": [
    "3.1. Przestępstwa gospodarcze - wykresy"
   ]
  },
  {
   "cell_type": "code",
   "execution_count": null,
   "metadata": {},
   "outputs": [],
   "source": [
    "plt.figure(figsize=(15,5))\n",
    "plt.plot(df_gosp_Polska[\"Rok\"], df_gosp_Polska[\"Liczba przestępstw\"])\n",
    "plt.axhline(średnia_df_gosp_Polska, color = \"red\", linestyle = \"--\", linewidth=2, label=f\"Srednie liczba przestępstw: {średnia_df_gosp_Polska:.2f}%\")\n",
    "plt.title(\"Liczba przestępstw gospodarczych w latach 1999-2021\", fontsize=20)\n",
    "plt.xlabel(\"Rok\", fontsize=16)\n",
    "plt.ylabel(\"Stopa bezrobocia [%]\", fontsize=16)\n",
    "plt.xticks(rotation=45, fontsize=12)\n",
    "plt.yticks(fontsize=12)\n",
    "plt.grid(True, linestyle=\"--\", alpha=0.6)\n",
    "plt.legend(fontsize=12)\n",
    "plt.show()"
   ]
  },
  {
   "cell_type": "code",
   "execution_count": null,
   "metadata": {},
   "outputs": [],
   "source": [
    "#Histogram\n",
    "plt.figure(figsize=(10, 5))\n",
    "sns.histplot(df_gosp_Polska[\"Liczba przestępstw\"], kde=True, bins=30)\n",
    "plt.title(\"Rozkład liczby przestępstw gospodarczych\")\n",
    "plt.xlabel(\"Liczba przestępstw\")\n",
    "plt.ylabel(\"Liczba przypadków (Częstość)\")\n",
    "plt.show()"
   ]
  },
  {
   "cell_type": "code",
   "execution_count": null,
   "metadata": {},
   "outputs": [],
   "source": [
    "#Obliczenie linii trendu\n",
    "z = np.polyfit(df_gosp_Polska[\"Rok\"], df_gosp_Polska[\"Liczba przestępstw\"], 1)\n",
    "p = np.poly1d(z)\n",
    "\n",
    "# Wykres stopy bezrobocia z linią trendu\n",
    "plt.figure(figsize=(15, 5))\n",
    "plt.plot(df_gosp_Polska[\"Rok\"], df_gosp_Polska[\"Liczba przestępstw\"], label=\"Liczba przestępstw\", color=\"blue\", marker=\"o\")\n",
    "plt.plot(df_gosp_Polska[\"Rok\"], p(df_gosp_Polska[\"Rok\"]), linestyle=\"--\", color=\"red\", label=\"Linia trendu\")\n",
    "plt.title(\"Liczba przestępstw gospodarczych w latach 1999-2021 z linią trendu\")\n",
    "plt.xlabel(\"Rok\")\n",
    "plt.ylabel(\"Liczba przestępstw\")\n",
    "plt.xticks(rotation=45)\n",
    "plt.grid(True, linestyle=\"--\", alpha=0.6)\n",
    "plt.legend()\n",
    "plt.show()"
   ]
  },
  {
   "cell_type": "markdown",
   "metadata": {},
   "source": [
    "4. Przestępstwa drogowe"
   ]
  },
  {
   "cell_type": "code",
   "execution_count": null,
   "metadata": {},
   "outputs": [],
   "source": [
    "średnia_df_dro_Polska = df_dro_Polska[\"Liczba przestępstw\"].mean().round(2)\n",
    "mediana_df_dro_Polska = df_dro_Polska[\"Liczba przestępstw\"].median().round(2)\n",
    "odchylenie_standardowe_df_dro_Polska = df_dro_Polska[\"Liczba przestępstw\"].std().round(2)\n",
    "wariancja_df_dro_Polska = df_dro_Polska[\"Liczba przestępstw\"].var().round(2)\n",
    "cv = odchylenie_standardowe_df_dro_Polska/średnia_df_dro_Polska #współczynnik zmienności\n",
    "cv = cv.round(2)\n",
    "\n",
    "print(f\"Srednie liczba przestępstw drogowych wynosi: {średnia_df_dro_Polska}\")\n",
    "print(f\"Mediana dla liczby przestępstw drogowych wynosi: {mediana_df_dro_Polska}\")\n",
    "print(f\"Odchylenie standardowe dla liczby drogowych gospodarczych: {odchylenie_standardowe_df_dro_Polska}\")\n",
    "print(f\"Wariancja dla liczby przestępstw drogowych: {wariancja_df_dro_Polska}\")\n",
    "print(f\"Współczynnik zmienności wynosi: {cv}\")"
   ]
  },
  {
   "cell_type": "markdown",
   "metadata": {},
   "source": [
    "4.1 Przestępstwa drogowe - wykresy"
   ]
  },
  {
   "cell_type": "code",
   "execution_count": null,
   "metadata": {},
   "outputs": [],
   "source": [
    "plt.figure(figsize=(15,5))\n",
    "plt.plot(df_dro_Polska[\"Rok\"], df_dro_Polska[\"Liczba przestępstw\"])\n",
    "plt.axhline(średnia_df_dro_Polska, color = \"red\", linestyle = \"--\", linewidth=2, label=f\"Srednie liczba przestępstw: {średnia_df_dro_Polska:.2f}%\")\n",
    "plt.title(\"Liczba przestępstw drogowych w latach 1999-2021\", fontsize=20)\n",
    "plt.xlabel(\"Rok\", fontsize=16)\n",
    "plt.ylabel(\"Stopa bezrobocia [%]\", fontsize=16)\n",
    "plt.xticks(rotation=45, fontsize=12)\n",
    "plt.yticks(fontsize=12)\n",
    "plt.grid(True, linestyle=\"--\", alpha=0.6)\n",
    "plt.legend(fontsize=12)\n",
    "plt.show()"
   ]
  },
  {
   "cell_type": "code",
   "execution_count": null,
   "metadata": {},
   "outputs": [],
   "source": [
    "#Histogram\n",
    "plt.figure(figsize=(10, 5))\n",
    "sns.histplot(df_dro_Polska[\"Liczba przestępstw\"], kde=True, bins=30)\n",
    "plt.title(\"Rozkład liczby przestępstw drogowych\")\n",
    "plt.xlabel(\"Liczba przestępstw\")\n",
    "plt.ylabel(\"Liczba przypadków (Częstość)\")\n",
    "plt.show()"
   ]
  },
  {
   "cell_type": "code",
   "execution_count": null,
   "metadata": {},
   "outputs": [],
   "source": [
    "#Obliczenie linii trendu\n",
    "z = np.polyfit(df_dro_Polska[\"Rok\"], df_dro_Polska[\"Liczba przestępstw\"], 1)\n",
    "p = np.poly1d(z)\n",
    "\n",
    "# Wykres stopy bezrobocia z linią trendu\n",
    "plt.figure(figsize=(15, 5))\n",
    "plt.plot(df_dro_Polska[\"Rok\"], df_dro_Polska[\"Liczba przestępstw\"], label=\"Liczba przestępstw\", color=\"blue\", marker=\"o\")\n",
    "plt.plot(df_dro_Polska[\"Rok\"], p(df_dro_Polska[\"Rok\"]), linestyle=\"--\", color=\"red\", label=\"Linia trendu\")\n",
    "plt.title(\"Liczba przestępstw drogowych w latach 1999-2021 z linią trendu\")\n",
    "plt.xlabel(\"Rok\")\n",
    "plt.ylabel(\"Liczba przestępstw\")\n",
    "plt.xticks(rotation=45)\n",
    "plt.grid(True, linestyle=\"--\", alpha=0.6)\n",
    "plt.legend()\n",
    "plt.show()"
   ]
  },
  {
   "cell_type": "markdown",
   "metadata": {},
   "source": [
    "####  Modelowanie statystyczne"
   ]
  },
  {
   "cell_type": "code",
   "execution_count": null,
   "metadata": {},
   "outputs": [],
   "source": [
    "df_merged = pd.merge(df_bezrobocie_roczne, df_kr_Polska, on=\"Rok\", how=\"inner\")\n",
    "df_merged = pd.merge(df_merged, df_gosp_Polska, on=\"Rok\", how=\"inner\")\n",
    "df_merged = pd.merge(df_merged, df_dro_Polska, on=\"Rok\", how=\"inner\")\n",
    "df_merged = df_merged.rename(columns={\"Liczba przestępstw_x\" : \"Liczba przestępstw kryminalnych\", \"Liczba przestępstw_y\" : \"Liczba przestępstw gospodarczych\", \"Liczba przestępstw\" : \"Liczba przestępstw drogowych\"})\n",
    "df_merged['Rok'] = pd.to_datetime(df_merged['Rok'], format='%Y')\n",
    "df_merged.set_index('Rok', inplace=True)\n",
    "\n",
    "# Wybór kolumn do standaryzacji\n",
    "kolumny = [\"Bezrobocie [%]\", \"Liczba przestępstw kryminalnych\",\"Liczba przestępstw drogowych\", \"Liczba przestępstw gospodarczych\"]\n",
    "\n",
    "scaler = StandardScaler()\n",
    "df_merged[kolumny] = scaler.fit_transform(df_merged[kolumny])\n",
    "\n",
    "X = df_merged[[\"Bezrobocie [%]\"]]\n",
    "y_kr = df_merged[[\"Liczba przestępstw kryminalnych\"]]\n",
    "y_dro = df_merged[[\"Liczba przestępstw drogowych\"]]\n",
    "y_gosp = df_merged[[\"Liczba przestępstw gospodarczych\"]]\n",
    "\n",
    "\n",
    "#Podział na zbiory treningowe i testowe\n",
    "X_train, X_test, y_kr_train, y_kr_test = train_test_split(X, y_kr,test_size = 0.2, random_state=42)\n",
    "_, _, y_dro_train, y_dro_test = train_test_split(X, y_dro,test_size = 0.2, random_state=42)\n",
    "_, _, y_gosp_train, y_gosp_test = train_test_split(X, y_gosp,test_size = 0.2, random_state=42)\n",
    "\n",
    "#Model regresji liniowej dla przestępczości kryminalnej\n",
    "model_kr = LinearRegression()\n",
    "model_kr.fit(X_train, y_kr_train)\n",
    "y_kr_pred = model_kr.predict(X_test)\n",
    "\n",
    "#Model regresji liniowej dla przestępczości drogowej\n",
    "model_dro = LinearRegression()\n",
    "model_dro.fit(X_train, y_kr_train)\n",
    "y_dro_pred = model_dro.predict(X_test)\n",
    "\n",
    "#Model regresji liniowej dla przestępczości gospodarcze\n",
    "model_gosp = LinearRegression()\n",
    "model_gosp.fit(X_train, y_kr_train)\n",
    "y_gosp_pred = model_gosp.predict(X_test)\n",
    "\n",
    "\n",
    "#Ocena modelu\n",
    "mse_kr = mean_squared_error(y_kr_test, y_kr_pred)\n",
    "r2_kr = r2_score(y_kr_test, y_kr_pred)\n",
    "\n",
    "mse_kr = round(mse_kr,4)\n",
    "r2_kr = round(r2_kr,4)\n",
    "\n",
    "mse_dro = mean_squared_error(y_dro_test, y_dro_pred)\n",
    "r2_dro = r2_score(y_dro_test, y_dro_pred)\n",
    "\n",
    "mse_dro = round(mse_dro,4)\n",
    "r2_dro = round(r2_dro,4)\n",
    "\n",
    "mse_gosp = mean_squared_error(y_gosp_test, y_gosp_pred)\n",
    "r2_gosp = r2_score(y_gosp_test, y_gosp_pred)\n",
    "\n",
    "mse_gosp = round(mse_gosp,4)\n",
    "r2_gosp = round(r2_gosp,4)\n",
    "\n",
    "print(f\"Regresja kryminalna: {mse_kr}, R^2 Score: {r2_kr}\")\n",
    "print(f\"Regresja drogowa: {mse_dro}, R^2 Score: {r2_dro}\")\n",
    "print(f\"Regresja gospodarcza: {mse_gosp}, R^2 Score: {r2_gosp}\")\n",
    "\n",
    "\n",
    "#Korelacja Pearsona\n",
    "corr_kryminalne, _ = pearsonr(df_merged[\"Bezrobocie [%]\"], df_merged[\"Liczba przestępstw kryminalnych\"])\n",
    "corr_drogowe, _ = pearsonr(df_merged[\"Bezrobocie [%]\"], df_merged[\"Liczba przestępstw drogowych\"])\n",
    "corr_gospodarcze, _ = pearsonr(df_merged[\"Bezrobocie [%]\"], df_merged[\"Liczba przestępstw gospodarczych\"])\n",
    "\n",
    "corr_kryminalne = round(corr_kryminalne, 4)\n",
    "corr_drogowe = round(corr_drogowe, 4)\n",
    "corr_gospodarcze = round(corr_gospodarcze, 4)\n",
    "\n",
    "print(f\"Korelacja Pearsona: {corr_kryminalne}\")\n",
    "print(f\"Korelacja Pearsona: {corr_drogowe}\")\n",
    "print(f\"Korelacja Pearsona: {corr_gospodarcze}\")\n",
    "\n",
    "\n",
    "# Podział danych na grupy\n",
    "niskie_bezrobocie = df_merged[df_merged[\"Bezrobocie [%]\"] < df_merged[\"Bezrobocie [%]\"].median()]\n",
    "wysokie_bezrobocie = df_merged[df_merged[\"Bezrobocie [%]\"] >= df_merged[\"Bezrobocie [%]\"].median()]\n",
    "\n",
    "# Test t-Studenta dla przestępstw kryminalnych\n",
    "t_stat_kryminalne, p_value_kryminalne = ttest_ind(niskie_bezrobocie[\"Liczba przestępstw kryminalnych\"], wysokie_bezrobocie[\"Liczba przestępstw kryminalnych\"])\n",
    "\n",
    "t_stat_kryminalne = round(t_stat_kryminalne, 4)\n",
    "p_value_kryminalne = round(p_value_kryminalne, 4)\n",
    "\n",
    "print(f\"T-statystyka - przestępstwa kryminalne: {t_stat_kryminalne}, p-wartość: {p_value_kryminalne}\")\n",
    "\n",
    "# Test t-Studenta dla przestępstw drogowych\n",
    "t_stat_drogowe, p_value_drogowe = ttest_ind(niskie_bezrobocie[\"Liczba przestępstw drogowych\"], wysokie_bezrobocie[\"Liczba przestępstw drogowych\"])\n",
    "\n",
    "t_stat_drogowe = round(t_stat_drogowe, 4)\n",
    "p_value_drogowe = round(p_value_drogowe, 4)\n",
    "\n",
    "print(f\"T-statystyka - przestępstwa drogowe: {t_stat_drogowe}, p-wartość: {p_value_drogowe}\")\n",
    "\n",
    "# Test t-Studenta dla przestępstw gospodarczych\n",
    "t_stat_gospodarcze, p_value_gospodarcze = ttest_ind(niskie_bezrobocie[\"Liczba przestępstw gospodarczych\"], wysokie_bezrobocie[\"Liczba przestępstw gospodarczych\"])\n",
    "\n",
    "t_stat_gospodarcze = round(t_stat_gospodarcze, 4)\n",
    "p_value_gospodarcze = round(p_value_gospodarcze, 4)\n",
    "\n",
    "print(f\"T-statystyka - przestępstwa gospodarcze: {t_stat_gospodarcze}, p-wartość: {p_value_gospodarcze}\")"
   ]
  },
  {
   "cell_type": "markdown",
   "metadata": {},
   "source": [
    "#### Przewidywanie przyszłych wartości - prognozowanie"
   ]
  },
  {
   "cell_type": "markdown",
   "metadata": {},
   "source": [
    "1. Przestępstwa kryminalne"
   ]
  },
  {
   "cell_type": "code",
   "execution_count": null,
   "metadata": {},
   "outputs": [],
   "source": [
    "\n",
    "# Test Dickeya-Fullera dla przestępstw kryminalnych\n",
    "\n",
    "ts_kryminalne = df_merged[\"Liczba przestępstw kryminalnych\"]\n",
    "\n",
    "# Pierwsze różnicowanie\n",
    "ts_kryminalne_diff = ts_kryminalne.diff().dropna()\n",
    "\n",
    "result = adfuller(ts_kryminalne_diff)\n",
    "print(\"ADF Statistic: %f\" % result[0])\n",
    "print(\"p-value: %f\" % result[1])\n",
    "for key, value in result[4].items():\n",
    "    print(\"Critical Values:\")\n",
    "    print(f\"   {key}, {value}\")\n"
   ]
  },
  {
   "cell_type": "code",
   "execution_count": null,
   "metadata": {},
   "outputs": [],
   "source": [
    "# Wykresy ACF i PACF dla przestępstw kryminalnych\n",
    "fig, ax = plt.subplots(2, figsize=(12, 8))\n",
    "\n",
    "plot_acf(df_merged[\"Liczba przestępstw kryminalnych\"], ax=ax[0], lags=10)\n",
    "plot_pacf(df_merged[\"Liczba przestępstw kryminalnych\"], ax=ax[1], lags=10)\n",
    "\n",
    "plt.show()"
   ]
  },
  {
   "cell_type": "code",
   "execution_count": null,
   "metadata": {},
   "outputs": [],
   "source": [
    "# df_merged['Rok'] = pd.to_datetime(df_merged['Rok'], format='%Y')\n",
    "# df_merged.set_index('Rok', inplace=True)\n",
    "\n",
    "#Model Arima\n",
    "model_kr = ARIMA(df_merged[\"Liczba przestępstw kryminalnych\"], order=(1, 1, 1))\n",
    "model_kr_fit = model_kr.fit()\n",
    "\n",
    "# Prognozowanie\n",
    "forecast = model_kr_fit.forecast(steps=5)\n",
    "\n",
    "#Wykres prognoz\n",
    "plt.figure(figsize=(10,6))\n",
    "plt.title(\"Prognozowanie liczby przestępstw kryminalnych\")\n",
    "plt.plot(df_merged[\"Liczba przestępstw kryminalnych\"], label=\"Historyczne dane\")\n",
    "plt.plot(pd.date_range(start=df_merged.index[-1], periods=6, freq=\"AS\")[1:], forecast, label=\"Prognoza\", color=\"red\")\n",
    "plt.legend()\n",
    "plt.show()\n"
   ]
  },
  {
   "cell_type": "markdown",
   "metadata": {},
   "source": [
    "2. Przestępstwa gospodarcze"
   ]
  },
  {
   "cell_type": "code",
   "execution_count": null,
   "metadata": {},
   "outputs": [],
   "source": [
    "# Test Dickeya-Fullera dla przestępstw gospodarczych\n",
    "\n",
    "ts_gospodarcze = df_merged[\"Liczba przestępstw gospodarczych\"]\n",
    "\n",
    "# Pierwsze różnicowanie\n",
    "ts_gospodarcze_diff = ts_gospodarcze.diff().dropna()\n",
    "# Drugie różnicowanie\n",
    "ts_gospodarcze_diff2 = ts_gospodarcze_diff.diff().dropna()\n",
    "# Trzecie różnicowanie\n",
    "ts_gospodarcze_diff3 = ts_gospodarcze_diff2.diff().dropna()\n",
    "\n",
    "result = adfuller(ts_gospodarcze_diff3)\n",
    "print(\"ADF Statistic: %f\" % result[0])\n",
    "print(\"p-value: %f\" % result[1])\n",
    "for key, value in result[4].items():\n",
    "    print(\"Critical Values:\")\n",
    "    print(f\"   {key}, {value}\")\n"
   ]
  },
  {
   "cell_type": "code",
   "execution_count": null,
   "metadata": {},
   "outputs": [],
   "source": [
    "# Wykresy ACF i PACF dla przestępstw gospodarczych\n",
    "fig, ax = plt.subplots(2, figsize=(12, 8))\n",
    "\n",
    "plot_acf(df_merged[\"Liczba przestępstw gospodarczych\"], ax=ax[0], lags=10)\n",
    "plot_pacf(df_merged[\"Liczba przestępstw gospodarczych\"], ax=ax[1], lags=10)\n",
    "\n",
    "plt.show()"
   ]
  },
  {
   "cell_type": "code",
   "execution_count": null,
   "metadata": {},
   "outputs": [],
   "source": [
    "#Model Arima\n",
    "model_gosp = ARIMA(df_merged[\"Liczba przestępstw gospodarczych\"], order=(1, 3, 2))\n",
    "model_gosp_fit = model_gosp.fit()\n",
    "\n",
    "# Prognozowanie\n",
    "forecast = model_gosp_fit.forecast(steps=5)\n",
    "\n",
    "# Wykres prognoz\n",
    "plt.figure(figsize=(10,6))\n",
    "plt.title(\"Prognozowanie liczby przestępstw gospodarczych\")\n",
    "plt.plot(df_merged[\"Liczba przestępstw gospodarczych\"], label=\"Historyczne dane\")\n",
    "plt.plot(pd.date_range(start=df_merged.index[-1], periods=6, freq=\"AS\")[1:], forecast, label=\"Prognoza\", color=\"red\")\n",
    "plt.legend()\n",
    "plt.show()"
   ]
  },
  {
   "cell_type": "markdown",
   "metadata": {},
   "source": [
    "3. Przestępstwa drogowe"
   ]
  },
  {
   "cell_type": "code",
   "execution_count": null,
   "metadata": {},
   "outputs": [],
   "source": [
    "# Test Dickeya-Fullera dla przestępstw drogowych\n",
    "\n",
    "ts_drogowe = df_merged[\"Liczba przestępstw drogowych\"]\n",
    "\n",
    "# Pierwsze różnicowanie\n",
    "ts_drogowe_diff = ts_drogowe.diff().dropna()\n",
    "\n",
    "result = adfuller(ts_drogowe_diff)\n",
    "print(\"ADF Statistic: %f\" % result[0])\n",
    "print(\"p-value: %f\" % result[1])\n",
    "for key, value in result[4].items():\n",
    "    print(\"Critical Values:\")\n",
    "    print(f\"   {key}, {value}\")"
   ]
  },
  {
   "cell_type": "code",
   "execution_count": null,
   "metadata": {},
   "outputs": [],
   "source": [
    "# Wykresy ACF i PACF dla przestępstw gospodarczych\n",
    "fig, ax = plt.subplots(2, figsize=(12, 8))\n",
    "\n",
    "plot_acf(df_merged[\"Liczba przestępstw drogowych\"], ax=ax[0], lags=10)\n",
    "plot_pacf(df_merged[\"Liczba przestępstw drogowych\"], ax=ax[1], lags=10)\n",
    "\n",
    "plt.show()"
   ]
  },
  {
   "cell_type": "code",
   "execution_count": null,
   "metadata": {},
   "outputs": [],
   "source": [
    "#Model Arima\n",
    "model_dro = ARIMA(df_merged[\"Liczba przestępstw drogowych\"], order=(1, 1, 2))\n",
    "model_dro_fit = model_dro.fit()\n",
    "\n",
    "# Prognozowanie\n",
    "forecast = model_dro_fit.forecast(steps=5)\n",
    "\n",
    "# Wykres prognoz\n",
    "plt.figure(figsize=(10,6))\n",
    "plt.title(\"Prognozowanie liczby przestępstw drogowych\")\n",
    "plt.plot(df_merged[\"Liczba przestępstw drogowych\"], label=\"Historyczne dane\")\n",
    "plt.plot(pd.date_range(start=df_merged.index[-1], periods=6, freq=\"YS\")[1:], forecast, label=\"Prognoza\", color=\"red\")\n",
    "plt.legend()\n",
    "plt.show()"
   ]
  },
  {
   "cell_type": "markdown",
   "metadata": {},
   "source": [
    "#### Analiza skupień"
   ]
  },
  {
   "cell_type": "markdown",
   "metadata": {},
   "source": [
    "1. Przestępstwa kryminalne"
   ]
  },
  {
   "cell_type": "code",
   "execution_count": null,
   "metadata": {},
   "outputs": [],
   "source": [
    "df_klasteryzacja = df_merged[[\"Bezrobocie [%]\", \"Liczba przestępstw kryminalnych\", \"Liczba przestępstw drogowych\", \"Liczba przestępstw gospodarczych\"]]\n",
    "df_klasteryzacja_scaled = scaler.fit_transform(df_klasteryzacja)\n",
    "\n",
    "# Wybór optymalnej liczby klastrów za pomocą metody \"łokcia\"\n",
    "inertia = []\n",
    "for n in range(1, 11):\n",
    "    kmeans = KMeans(n_clusters=n, random_state=42)\n",
    "    kmeans.fit(df_klasteryzacja_scaled)\n",
    "    inertia.append(kmeans.inertia_)\n",
    "\n",
    "plt.figure(figsize=(10, 6))\n",
    "plt.plot(range(1, 11), inertia, marker='o')\n",
    "plt.title('Metoda \"łokcia\" dla określenia optymalnej liczby klastrów')\n",
    "plt.xlabel('Liczba klastrów')\n",
    "plt.ylabel('Inercja')\n",
    "plt.show()\n",
    "\n",
    "# Klasteryzacja z optymalną liczbą klastrów\n",
    "kmeans = KMeans(n_clusters=3, random_state=42)  # Zakładamy, że 3 klastry są optymalne\n",
    "df_merged[\"Klaster\"] = kmeans.fit_predict(df_klasteryzacja_scaled)\n",
    "\n",
    "# Wykres wyników klasteryzacji\n",
    "plt.figure(figsize=(10, 6))\n",
    "sns.scatterplot(data=df_merged, x=\"Bezrobocie [%]\", y=\"Liczba przestępstw kryminalnych\", hue=\"Klaster\", palette=\"viridis\")\n",
    "plt.title('Klasteryzacja K-means: Bezrobocie a przestępstwa kryminalne')\n",
    "plt.show()"
   ]
  },
  {
   "cell_type": "markdown",
   "metadata": {},
   "source": [
    "2. Przestępstwa gospodarcze"
   ]
  },
  {
   "cell_type": "code",
   "execution_count": null,
   "metadata": {},
   "outputs": [],
   "source": [
    "df_klasteryzacja = df_merged[[\"Bezrobocie [%]\", \"Liczba przestępstw kryminalnych\", \"Liczba przestępstw drogowych\", \"Liczba przestępstw gospodarczych\"]]\n",
    "df_klasteryzacja_scaled = scaler.fit_transform(df_klasteryzacja)\n",
    "\n",
    "inertia = []\n",
    "for n in range(1, 11):\n",
    "    kmeans = KMeans(n_clusters=n, random_state=42)\n",
    "    kmeans.fit(df_klasteryzacja_scaled)\n",
    "    inertia.append(kmeans.inertia_)\n",
    "\n",
    "plt.figure(figsize=(10, 6))\n",
    "plt.plot(range(1, 11), inertia, marker='o')\n",
    "plt.title('Metoda \"łokcia\" dla określenia optymalnej liczby klastrów')\n",
    "plt.xlabel('Liczba klastrów')\n",
    "plt.ylabel('Inercja')\n",
    "plt.show()\n",
    "\n",
    "kmeans = KMeans(n_clusters=3, random_state=42)  \n",
    "df_merged[\"Klaster\"] = kmeans.fit_predict(df_klasteryzacja_scaled)\n",
    "\n",
    "plt.figure(figsize=(10, 6))\n",
    "sns.scatterplot(data=df_merged, x=\"Bezrobocie [%]\", y=\"Liczba przestępstw gospodarczych\", hue=\"Klaster\", palette=\"viridis\")\n",
    "plt.title('Klasteryzacja K-means: Bezrobocie a przestępstwa gospodarcze')\n",
    "plt.show()"
   ]
  },
  {
   "cell_type": "markdown",
   "metadata": {},
   "source": [
    "3. Przestępstwa drogowe"
   ]
  },
  {
   "cell_type": "code",
   "execution_count": null,
   "metadata": {},
   "outputs": [],
   "source": [
    "df_klasteryzacja = df_merged[[\"Bezrobocie [%]\", \"Liczba przestępstw kryminalnych\", \"Liczba przestępstw drogowych\", \"Liczba przestępstw gospodarczych\"]]\n",
    "df_klasteryzacja_scaled = scaler.fit_transform(df_klasteryzacja)\n",
    "\n",
    "# Wybór optymalnej liczby klastrów za pomocą metody \"łokcia\"\n",
    "inertia = []\n",
    "for n in range(1, 11):\n",
    "    kmeans = KMeans(n_clusters=n, random_state=42)\n",
    "    kmeans.fit(df_klasteryzacja_scaled)\n",
    "    inertia.append(kmeans.inertia_)\n",
    "\n",
    "plt.figure(figsize=(10, 6))\n",
    "plt.plot(range(1, 11), inertia, marker='o')\n",
    "plt.title('Metoda \"łokcia\" dla określenia optymalnej liczby klastrów')\n",
    "plt.xlabel('Liczba klastrów')\n",
    "plt.ylabel('Inercja')\n",
    "plt.show()\n",
    "\n",
    "kmeans = KMeans(n_clusters=3, random_state=42) \n",
    "df_merged[\"Klaster\"] = kmeans.fit_predict(df_klasteryzacja_scaled)\n",
    "\n",
    "plt.figure(figsize=(10, 6))\n",
    "sns.scatterplot(data=df_merged, x=\"Bezrobocie [%]\", y=\"Liczba przestępstw drogowych\", hue=\"Klaster\", palette=\"viridis\")\n",
    "plt.title('Klasteryzacja K-means: Bezrobocie a przestępstwa drogowe')\n",
    "plt.show()"
   ]
  },
  {
   "cell_type": "markdown",
   "metadata": {},
   "source": [
    "4. Suma wszystkich przestępstw w roku"
   ]
  },
  {
   "cell_type": "code",
   "execution_count": null,
   "metadata": {},
   "outputs": [],
   "source": [
    "# Sumowanie przestępstw\n",
    "df_merged[\"Suma wszystkich przestępstw\"] = df_merged[\"Liczba przestępstw drogowych\"] + df_merged[\"Liczba przestępstw kryminalnych\"] + df_merged[\"Liczba przestępstw gospodarczych\"]\n",
    "\n",
    "# Przygotowanie danych do klasteryzacji\n",
    "df_klasteryzacja = df_merged[[\"Suma wszystkich przestępstw\"]].copy()\n",
    "df_klasteryzacja['Rok'] = df_merged.index.year  # Dodanie roku jako kolumny\n",
    "scaler = StandardScaler()\n",
    "df_klasteryzacja_scaled = scaler.fit_transform(df_klasteryzacja)\n",
    "\n",
    "# Klasteryzacja K-means\n",
    "kmeans = KMeans(n_clusters=3, random_state=42)\n",
    "df_merged['Klaster'] = kmeans.fit_predict(df_klasteryzacja_scaled)\n",
    "\n",
    "# Wizualizacja klastrów\n",
    "plt.figure(figsize=(10, 6))\n",
    "sns.scatterplot(data=df_merged, x=df_merged.index.year, y=\"Suma wszystkich przestępstw\", hue=\"Klaster\", palette=\"viridis\")\n",
    "plt.title('Klasteryzacja K-means: Rok a liczba przestępstw')\n",
    "plt.xlabel(\"Rok\")\n",
    "plt.ylabel(\"Suma wszystkich przestępstw\")\n",
    "plt.show()"
   ]
  }
 ],
 "metadata": {
  "kernelspec": {
   "display_name": "Python 3",
   "language": "python",
   "name": "python3"
  },
  "language_info": {
   "codemirror_mode": {
    "name": "ipython",
    "version": 3
   },
   "file_extension": ".py",
   "mimetype": "text/x-python",
   "name": "python",
   "nbconvert_exporter": "python",
   "pygments_lexer": "ipython3",
   "version": "3.12.3"
  }
 },
 "nbformat": 4,
 "nbformat_minor": 2
}
